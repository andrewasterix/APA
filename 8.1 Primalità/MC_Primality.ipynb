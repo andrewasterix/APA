{
 "cells": [
  {
   "cell_type": "markdown",
   "metadata": {},
   "source": [
    "# APA a.a. 22/23 - Test Primalità Monte Carlo\n",
    "\n",
    "Lontani dal caso peggiore: Test Primalità Monte Carlo (Compito 8.1 delle note)<br>\n",
    "![alt text](8.1.png \"Test Primalità Monte Carlo\")\n",
    "\n",
    "## Librerie Necessarie"
   ]
  },
  {
   "cell_type": "code",
   "execution_count": 1,
   "metadata": {},
   "outputs": [
    {
     "name": "stdout",
     "output_type": "stream",
     "text": [
      "Requirement already satisfied: numpy in c:\\users\\andre\\appdata\\local\\packages\\pythonsoftwarefoundation.python.3.10_qbz5n2kfra8p0\\localcache\\local-packages\\python310\\site-packages (1.24.2)\n",
      "Note: you may need to restart the kernel to use updated packages.\n"
     ]
    },
    {
     "name": "stderr",
     "output_type": "stream",
     "text": [
      "\n",
      "[notice] A new release of pip is available: 23.1.2 -> 23.2.1\n",
      "[notice] To update, run: C:\\Users\\andre\\AppData\\Local\\Microsoft\\WindowsApps\\PythonSoftwareFoundation.Python.3.10_qbz5n2kfra8p0\\python.exe -m pip install --upgrade pip\n"
     ]
    },
    {
     "name": "stdout",
     "output_type": "stream",
     "text": [
      "Requirement already satisfied: matplotlib in c:\\users\\andre\\appdata\\local\\packages\\pythonsoftwarefoundation.python.3.10_qbz5n2kfra8p0\\localcache\\local-packages\\python310\\site-packages (3.7.1)\n",
      "Requirement already satisfied: contourpy>=1.0.1 in c:\\users\\andre\\appdata\\local\\packages\\pythonsoftwarefoundation.python.3.10_qbz5n2kfra8p0\\localcache\\local-packages\\python310\\site-packages (from matplotlib) (1.0.7)\n",
      "Requirement already satisfied: cycler>=0.10 in c:\\users\\andre\\appdata\\local\\packages\\pythonsoftwarefoundation.python.3.10_qbz5n2kfra8p0\\localcache\\local-packages\\python310\\site-packages (from matplotlib) (0.11.0)\n",
      "Requirement already satisfied: fonttools>=4.22.0 in c:\\users\\andre\\appdata\\local\\packages\\pythonsoftwarefoundation.python.3.10_qbz5n2kfra8p0\\localcache\\local-packages\\python310\\site-packages (from matplotlib) (4.39.3)\n",
      "Requirement already satisfied: kiwisolver>=1.0.1 in c:\\users\\andre\\appdata\\local\\packages\\pythonsoftwarefoundation.python.3.10_qbz5n2kfra8p0\\localcache\\local-packages\\python310\\site-packages (from matplotlib) (1.4.4)\n",
      "Requirement already satisfied: numpy>=1.20 in c:\\users\\andre\\appdata\\local\\packages\\pythonsoftwarefoundation.python.3.10_qbz5n2kfra8p0\\localcache\\local-packages\\python310\\site-packages (from matplotlib) (1.24.2)\n",
      "Requirement already satisfied: packaging>=20.0 in c:\\users\\andre\\appdata\\local\\packages\\pythonsoftwarefoundation.python.3.10_qbz5n2kfra8p0\\localcache\\local-packages\\python310\\site-packages (from matplotlib) (23.0)\n",
      "Requirement already satisfied: pillow>=6.2.0 in c:\\users\\andre\\appdata\\local\\packages\\pythonsoftwarefoundation.python.3.10_qbz5n2kfra8p0\\localcache\\local-packages\\python310\\site-packages (from matplotlib) (9.2.0)\n",
      "Requirement already satisfied: pyparsing>=2.3.1 in c:\\users\\andre\\appdata\\local\\packages\\pythonsoftwarefoundation.python.3.10_qbz5n2kfra8p0\\localcache\\local-packages\\python310\\site-packages (from matplotlib) (3.0.9)\n",
      "Requirement already satisfied: python-dateutil>=2.7 in c:\\users\\andre\\appdata\\local\\packages\\pythonsoftwarefoundation.python.3.10_qbz5n2kfra8p0\\localcache\\local-packages\\python310\\site-packages (from matplotlib) (2.8.2)\n",
      "Requirement already satisfied: six>=1.5 in c:\\users\\andre\\appdata\\local\\packages\\pythonsoftwarefoundation.python.3.10_qbz5n2kfra8p0\\localcache\\local-packages\\python310\\site-packages (from python-dateutil>=2.7->matplotlib) (1.16.0)\n",
      "Note: you may need to restart the kernel to use updated packages.\n"
     ]
    },
    {
     "name": "stderr",
     "output_type": "stream",
     "text": [
      "\n",
      "[notice] A new release of pip is available: 23.1.2 -> 23.2.1\n",
      "[notice] To update, run: C:\\Users\\andre\\AppData\\Local\\Microsoft\\WindowsApps\\PythonSoftwareFoundation.Python.3.10_qbz5n2kfra8p0\\python.exe -m pip install --upgrade pip\n"
     ]
    }
   ],
   "source": [
    "%pip install numpy\n",
    "%pip install matplotlib"
   ]
  },
  {
   "cell_type": "markdown",
   "metadata": {},
   "source": [
    "## Implementazione Algoritmo"
   ]
  },
  {
   "cell_type": "code",
   "execution_count": 2,
   "metadata": {},
   "outputs": [],
   "source": [
    "import matplotlib.pyplot as plt\n",
    "import numpy as np\n",
    "import random\n",
    "from random import randint\n",
    "import math\n",
    "from math import gcd \n",
    "import decimal"
   ]
  },
  {
   "cell_type": "markdown",
   "metadata": {},
   "source": [
    "### Algoritmo Miller-Rabin"
   ]
  },
  {
   "cell_type": "code",
   "execution_count": 3,
   "metadata": {},
   "outputs": [],
   "source": [
    "def MCPrimalityTest(n, a):\n",
    "    \n",
    "    if(n < 3 or (n % 2) == 0):\n",
    "        return f\"{n} NO primo\"\n",
    "    \n",
    "    s = 0\n",
    "    q = n - 1\n",
    "\n",
    "    while q % 2 == 0:\n",
    "        s += 1\n",
    "        q //= 2\n",
    "\n",
    "    x = pow(a, q, n) # a^q mod n\n",
    "\n",
    "    if x == 1 or x == - 1:\n",
    "        return f\"{a} Bugiardo\"\n",
    "    \n",
    "    while s - 1 >= 0:\n",
    "        x = pow(x, 2, n)\n",
    "        \n",
    "        if x == 1:\n",
    "            return f\"{a} Bugiardo\"\n",
    "        \n",
    "        s -= 1"
   ]
  },
  {
   "cell_type": "markdown",
   "metadata": {},
   "source": [
    "### Test di Comprimabilità"
   ]
  },
  {
   "cell_type": "code",
   "execution_count": 4,
   "metadata": {},
   "outputs": [],
   "source": [
    "def coprime(a, b):\n",
    "    while b != 0:\n",
    "        a, b = b, a % b\n",
    "    return a == 1 # Se a == 1, a e b sono coprimi"
   ]
  },
  {
   "cell_type": "markdown",
   "metadata": {},
   "source": [
    "### Ricerca dell'Ordine di un Elemento"
   ]
  },
  {
   "cell_type": "code",
   "execution_count": 5,
   "metadata": {},
   "outputs": [],
   "source": [
    "def find_order(n):\n",
    "    order = 1 # Ordine di Z* di n\n",
    "\n",
    "    for a in range(1, n):\n",
    "        if gcd(a, n) == 1: # Se a e n sono coprimi\n",
    "            result = pow(a, order, n) # Calcolo di a^order (mod n)\n",
    "            while result != 1:\n",
    "                result = (result * a) % n # Calcolo di a^order (mod n)\n",
    "                order += 1\n",
    "\n",
    "                if order >= n: # Se l'ordine è maggiore o uguale a n\n",
    "                    return -1\n",
    "    return order"
   ]
  },
  {
   "cell_type": "markdown",
   "metadata": {},
   "source": [
    "### Ricerca dei Testimoni"
   ]
  },
  {
   "cell_type": "code",
   "execution_count": 11,
   "metadata": {},
   "outputs": [],
   "source": [
    "def find_witnesses(n): # Trova i testimoni per n\n",
    "    a = 2\n",
    "    counter = 0\n",
    "    witnesses = 0\n",
    "    for i in range(n - 3):\n",
    "        if coprime(a, n):\n",
    "            counter += 1\n",
    "            result = MCPrimalityTest(n, a) # Applica il test di primalità di Miller-Rabin\n",
    "            \n",
    "            if result is not None: # Se il numero è composto\n",
    "                witnesses += 1 # Aggiungi il numero alla lista dei testimoni\n",
    "\n",
    "        a += 1\n",
    "    return witnesses / counter * 100 # Ritorna la percentuale di testimoni"
   ]
  },
  {
   "cell_type": "markdown",
   "metadata": {},
   "source": [
    "### Brute Force per il controllo se un numero è primo"
   ]
  },
  {
   "cell_type": "code",
   "execution_count": 12,
   "metadata": {},
   "outputs": [],
   "source": [
    "def is_prime(n):\n",
    "    if n <= 1: # Se n è minore o uguale a 1\n",
    "        return False\n",
    "\n",
    "    for i in range(2, n): # Per ogni numero i compreso tra 2 e n\n",
    "        if n % i == 0:\n",
    "            return False # Se n è divisibile per i, allora n è composto\n",
    "\n",
    "    return True # Se n non è divisibile per nessun numero i, allora n è primo"
   ]
  },
  {
   "cell_type": "markdown",
   "metadata": {},
   "source": [
    "### Esecuzione Test"
   ]
  },
  {
   "cell_type": "code",
   "execution_count": 13,
   "metadata": {},
   "outputs": [],
   "source": [
    "n1 = 999\n",
    "n2 = 997\n",
    "n3 = 973\n",
    "\n",
    "# Calcolo dell'ordine di Z* di n1, n2 e n3\n",
    "order_n1 = find_order(n1)\n",
    "order_n2 = find_order(n2)\n",
    "order_n3 = find_order(n3)\n",
    "\n",
    "# Calcolo dei testimoni per n1, n2 e n3\n",
    "rate_witnesses_n1 = find_witnesses(n1)\n",
    "rate_witnesses_n2 = find_witnesses(n2)\n",
    "rate_witnesses_n3 = find_witnesses(n3)"
   ]
  },
  {
   "cell_type": "markdown",
   "metadata": {},
   "source": [
    "### Stampa Risultati"
   ]
  },
  {
   "cell_type": "code",
   "execution_count": 9,
   "metadata": {},
   "outputs": [
    {
     "name": "stdout",
     "output_type": "stream",
     "text": [
      "Numero: 999\n",
      "Realmente è primo? False\n",
      "Ordine di Z* di 999: 36\n",
      "Frazione di testimoni: 0.30959752321981426\n",
      "\n",
      "Numero: 997\n",
      "Realmente è primo? True\n",
      "Ordine di Z* di 997: 996\n",
      "Frazione di testimoni: 100.0\n",
      "\n",
      "Numero: 973\n",
      "Realmente è primo? False\n",
      "Ordine di Z* di 973: 138\n",
      "Frazione di testimoni: 4.116222760290557\n"
     ]
    }
   ],
   "source": [
    "print(f\"Numero: {n1}\")\n",
    "print(f\"Realmente è primo? {is_prime(n1)}\")\n",
    "print(f\"Ordine di Z* di {n1}: {order_n1}\")\n",
    "print(f\"Frazione di testimoni: {rate_witnesses_n1}\")\n",
    "print(f\"\")\n",
    "print(f\"Numero: {n2}\")\n",
    "print(f\"Realmente è primo? {is_prime(n2)}\")\n",
    "print(f\"Ordine di Z* di {n2}: {order_n2}\")\n",
    "print(f\"Frazione di testimoni: {rate_witnesses_n2}\")\n",
    "print(f\"\")\n",
    "print(f\"Numero: {n3}\")\n",
    "print(f\"Realmente è primo? {is_prime(n3)}\")\n",
    "print(f\"Ordine di Z* di {n3}: {order_n3}\")\n",
    "print(f\"Frazione di testimoni: {rate_witnesses_n3}\")"
   ]
  },
  {
   "cell_type": "markdown",
   "metadata": {},
   "source": [
    "## Conclusioni\n",
    "\n",
    "Il test di Miller-Rabin è un test di primalità probabilistico che determina se un dato numero è probabilmente primo. <br>\n",
    "Il test di Miller-Rabin identifica correttamente che 999 e 973 non sono numeri primi, mentre 997 è un numero primo.<br>\n",
    "\n",
    "La frazione di testimoni si riferisce alla proporzione di basi per cui il test di Miller-Rabin identifica correttamente un numero composto come composto. <br>\n",
    "Ad esempio, per il numero 999, la frazione di testimoni è 0.30959752321981426, il che significa che circa il 31% delle basi testate ha correttamente identificato 999 come composto. <br>\n",
    "\n",
    "In generale, più alta è la frazione di testimoni, più probabile è che il test di Miller-Rabin identifichi correttamente un numero composto come composto. <br>\n",
    "Per i numeri primi, la frazione di testimoni dovrebbe essere del 100%, poiché tutte le basi dovrebbero identificare correttamente il numero come primo. <br> \n",
    "Nei risultati ottenuti, questo è il caso per il numero primo 997.<br>\n",
    "\n"
   ]
  }
 ],
 "metadata": {
  "kernelspec": {
   "display_name": "Python 3",
   "language": "python",
   "name": "python3"
  },
  "language_info": {
   "codemirror_mode": {
    "name": "ipython",
    "version": 3
   },
   "file_extension": ".py",
   "mimetype": "text/x-python",
   "name": "python",
   "nbconvert_exporter": "python",
   "pygments_lexer": "ipython3",
   "version": "3.10.11"
  },
  "orig_nbformat": 4
 },
 "nbformat": 4,
 "nbformat_minor": 2
}
