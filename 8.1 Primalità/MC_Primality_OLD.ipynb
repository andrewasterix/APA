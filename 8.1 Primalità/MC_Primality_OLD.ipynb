{
 "cells": [
  {
   "cell_type": "markdown",
   "metadata": {},
   "source": [
    "# APA a.a. 22/23 - Test Primalità Monte Carlo\n",
    "\n",
    "Lontani dal caso peggiore: Test Primalità Monte Carlo (Compito 8.1 delle note)<br>\n",
    "![alt text](8.1.png \"Test Primalità Monte Carlo\")\n",
    "\n",
    "## Librerie Necessarie"
   ]
  },
  {
   "cell_type": "code",
   "execution_count": 1,
   "metadata": {},
   "outputs": [
    {
     "name": "stdout",
     "output_type": "stream",
     "text": [
      "Requirement already satisfied: numpy in c:\\users\\andre\\appdata\\local\\packages\\pythonsoftwarefoundation.python.3.10_qbz5n2kfra8p0\\localcache\\local-packages\\python310\\site-packages (1.24.2)\n",
      "Note: you may need to restart the kernel to use updated packages.\n",
      "Requirement already satisfied: matplotlib in c:\\users\\andre\\appdata\\local\\packages\\pythonsoftwarefoundation.python.3.10_qbz5n2kfra8p0\\localcache\\local-packages\\python310\\site-packages (3.7.1)\n",
      "Requirement already satisfied: contourpy>=1.0.1 in c:\\users\\andre\\appdata\\local\\packages\\pythonsoftwarefoundation.python.3.10_qbz5n2kfra8p0\\localcache\\local-packages\\python310\\site-packages (from matplotlib) (1.0.7)\n",
      "Requirement already satisfied: cycler>=0.10 in c:\\users\\andre\\appdata\\local\\packages\\pythonsoftwarefoundation.python.3.10_qbz5n2kfra8p0\\localcache\\local-packages\\python310\\site-packages (from matplotlib) (0.11.0)\n",
      "Requirement already satisfied: fonttools>=4.22.0 in c:\\users\\andre\\appdata\\local\\packages\\pythonsoftwarefoundation.python.3.10_qbz5n2kfra8p0\\localcache\\local-packages\\python310\\site-packages (from matplotlib) (4.39.3)\n",
      "Requirement already satisfied: kiwisolver>=1.0.1 in c:\\users\\andre\\appdata\\local\\packages\\pythonsoftwarefoundation.python.3.10_qbz5n2kfra8p0\\localcache\\local-packages\\python310\\site-packages (from matplotlib) (1.4.4)\n",
      "Requirement already satisfied: numpy>=1.20 in c:\\users\\andre\\appdata\\local\\packages\\pythonsoftwarefoundation.python.3.10_qbz5n2kfra8p0\\localcache\\local-packages\\python310\\site-packages (from matplotlib) (1.24.2)\n",
      "Requirement already satisfied: packaging>=20.0 in c:\\users\\andre\\appdata\\local\\packages\\pythonsoftwarefoundation.python.3.10_qbz5n2kfra8p0\\localcache\\local-packages\\python310\\site-packages (from matplotlib) (23.0)\n",
      "Requirement already satisfied: pillow>=6.2.0 in c:\\users\\andre\\appdata\\local\\packages\\pythonsoftwarefoundation.python.3.10_qbz5n2kfra8p0\\localcache\\local-packages\\python310\\site-packages (from matplotlib) (9.2.0)\n",
      "Requirement already satisfied: pyparsing>=2.3.1 in c:\\users\\andre\\appdata\\local\\packages\\pythonsoftwarefoundation.python.3.10_qbz5n2kfra8p0\\localcache\\local-packages\\python310\\site-packages (from matplotlib) (3.0.9)\n",
      "Requirement already satisfied: python-dateutil>=2.7 in c:\\users\\andre\\appdata\\local\\packages\\pythonsoftwarefoundation.python.3.10_qbz5n2kfra8p0\\localcache\\local-packages\\python310\\site-packages (from matplotlib) (2.8.2)\n",
      "Requirement already satisfied: six>=1.5 in c:\\users\\andre\\appdata\\local\\packages\\pythonsoftwarefoundation.python.3.10_qbz5n2kfra8p0\\localcache\\local-packages\\python310\\site-packages (from python-dateutil>=2.7->matplotlib) (1.16.0)\n",
      "Note: you may need to restart the kernel to use updated packages.\n"
     ]
    }
   ],
   "source": [
    "%pip install numpy\n",
    "%pip install matplotlib"
   ]
  },
  {
   "cell_type": "markdown",
   "metadata": {},
   "source": [
    "## Implementazione Algoritmo"
   ]
  },
  {
   "cell_type": "code",
   "execution_count": 2,
   "metadata": {},
   "outputs": [],
   "source": [
    "import matplotlib.pyplot as plt\n",
    "import numpy as np\n",
    "import random\n",
    "from random import randint\n",
    "import math\n",
    "from math import gcd \n",
    "import decimal"
   ]
  },
  {
   "cell_type": "markdown",
   "metadata": {},
   "source": [
    "### Algoritmo Miller-Rabin"
   ]
  },
  {
   "cell_type": "code",
   "execution_count": 3,
   "metadata": {},
   "outputs": [],
   "source": [
    "def MCPrimalityTest(n):\n",
    "    \n",
    "    if(n < 3 or (n % 2) == 0):\n",
    "        return f\"{n} is not prime\"\n",
    "    \n",
    "    s = 0\n",
    "    q = n - 1\n",
    "\n",
    "    while q % 2 == 0:\n",
    "        s += 1\n",
    "        q //= 2\n",
    "\n",
    "    k = 3 # Numero di iterazioni\n",
    "\n",
    "    for _ in range(k):  # Effettuiamo tre iterazioni\n",
    "        a = randint(2, n - 2) # Numero random da 2 a n-1\n",
    "        x = pow(decimal.Decimal(a), decimal.Decimal(q), decimal.Decimal(n))  # Calcolo di x ≡ a^q (mod n)\n",
    "\n",
    "        if x == 1 or x == n - 1: # Teorema di Fermat\n",
    "            if(not is_prime(n)):\n",
    "                continue\n",
    "            return True # Probabilmente primo\n",
    "\n",
    "        for _ in range(s - 1):\n",
    "            x = pow(x, 2, n)  # Calcolo di x ≡ x^2 (mod n)\n",
    "\n",
    "            if x == n - 1:\n",
    "                if(not is_prime(n)):\n",
    "                    continue\n",
    "                return True # Probabilmente primo\n",
    "        else:\n",
    "            return False # Composto\n",
    "\n",
    "    return True # Probabilmente primo"
   ]
  },
  {
   "cell_type": "markdown",
   "metadata": {},
   "source": [
    "### Ricerca dell'Ordine di un Elemento"
   ]
  },
  {
   "cell_type": "code",
   "execution_count": 4,
   "metadata": {},
   "outputs": [],
   "source": [
    "def find_order(n):\n",
    "    order = 1 # Ordine di Z* di n\n",
    "\n",
    "    for a in range(1, n):\n",
    "        if gcd(a, n) == 1: # Se a e n sono coprimi\n",
    "            result = pow(a, order, n) # Calcolo di a^order (mod n)\n",
    "            while result != 1:\n",
    "                result = (result * a) % n # Calcolo di a^order (mod n)\n",
    "                order += 1\n",
    "\n",
    "                if order >= n: # Se l'ordine è maggiore o uguale a n\n",
    "                    return -1\n",
    "    return order"
   ]
  },
  {
   "cell_type": "markdown",
   "metadata": {},
   "source": [
    "### Ricerca dei Testimoni"
   ]
  },
  {
   "cell_type": "code",
   "execution_count": 5,
   "metadata": {},
   "outputs": [],
   "source": [
    "def find_witnesses(n): # Trova i testimoni per n\n",
    "    witnesses = [] # Lista dei testimoni\n",
    "    result = False \n",
    "    for a in range(2, n - 1):\n",
    "        result = MCPrimalityTest(n) # Applica il test di primalità di Miller-Rabin\n",
    "        if result == False: # Se il numero è composto\n",
    "            witnesses.append(a) # Aggiungi il numero alla lista dei testimoni\n",
    "    return witnesses, result"
   ]
  },
  {
   "cell_type": "markdown",
   "metadata": {},
   "source": [
    "### Brute Force per il controllo se un numero è primo"
   ]
  },
  {
   "cell_type": "code",
   "execution_count": 6,
   "metadata": {},
   "outputs": [],
   "source": [
    "def is_prime(n):\n",
    "    if n <= 1: # Se n è minore o uguale a 1\n",
    "        return False\n",
    "\n",
    "    for i in range(2, n): # Per ogni numero i compreso tra 2 e n\n",
    "        if n % i == 0:\n",
    "            return False # Se n è divisibile per i, allora n è composto\n",
    "\n",
    "    return True # Se n non è divisibile per nessun numero i, allora n è primo"
   ]
  },
  {
   "cell_type": "markdown",
   "metadata": {},
   "source": [
    "### Esecuzione Test"
   ]
  },
  {
   "cell_type": "code",
   "execution_count": 7,
   "metadata": {},
   "outputs": [],
   "source": [
    "n1 = 999\n",
    "n2 = 997\n",
    "n3 = 973\n",
    "\n",
    "# Calcolo dell'ordine di Z* di n1, n2 e n3\n",
    "order_n1 = find_order(n1)\n",
    "order_n2 = find_order(n2)\n",
    "order_n3 = find_order(n3)\n",
    "\n",
    "# Calcolo dei testimoni per n1, n2 e n3\n",
    "witnesses_n1, prime_n1 = find_witnesses(n1)\n",
    "witnesses_n2, prime_n2 = find_witnesses(n2)\n",
    "witnesses_n3, prime_n3 = find_witnesses(n3)\n",
    "\n",
    "# Calcolo delle frazioni di testimoni per n1, n2 e n3\n",
    "fraction_n1 = len(witnesses_n1) / (n1 - 3)\n",
    "fraction_n2 = len(witnesses_n2) / (n2 - 3)\n",
    "fraction_n3 = len(witnesses_n3) / (n3 - 3)"
   ]
  },
  {
   "cell_type": "markdown",
   "metadata": {},
   "source": [
    "### Stampa Risultati"
   ]
  },
  {
   "cell_type": "code",
   "execution_count": 8,
   "metadata": {},
   "outputs": [
    {
     "name": "stdout",
     "output_type": "stream",
     "text": [
      "Numero: 999 è primo? False\n",
      "Realmente è primo? False\n",
      "Ordine di Z* di 999: 36\n",
      "Testimoni: [2, 3, 4, 5, 6, 7, 8, 9, 10, 11, 12, 13, 14, 15, 16, 17, 18, 19, 20, 21, 22, 23, 24, 25, 26, 27, 28, 29, 30, 31, 32, 33, 34, 35, 36, 37, 38, 39, 40, 41, 42, 43, 44, 45, 46, 47, 48, 49, 50, 51, 52, 53, 54, 55, 56, 57, 58, 59, 60, 61, 62, 63, 64, 65, 66, 67, 68, 69, 70, 71, 72, 73, 74, 75, 76, 77, 78, 79, 80, 81, 82, 83, 84, 85, 86, 87, 88, 89, 90, 91, 92, 93, 94, 95, 96, 97, 98, 99, 100, 101, 102, 103, 104, 105, 106, 107, 108, 109, 110, 111, 112, 113, 114, 115, 116, 117, 118, 119, 120, 121, 122, 123, 124, 125, 126, 127, 128, 129, 130, 131, 132, 133, 134, 135, 136, 137, 138, 139, 140, 141, 142, 143, 144, 145, 146, 147, 148, 149, 150, 151, 152, 153, 154, 155, 156, 157, 158, 159, 160, 161, 162, 163, 164, 165, 166, 167, 168, 169, 170, 171, 172, 173, 174, 175, 176, 177, 178, 179, 180, 181, 182, 183, 184, 185, 186, 187, 188, 189, 190, 191, 192, 193, 194, 195, 196, 197, 198, 199, 200, 201, 202, 203, 204, 205, 206, 207, 208, 209, 210, 211, 212, 213, 214, 215, 216, 217, 218, 219, 220, 221, 222, 223, 224, 225, 226, 227, 228, 229, 230, 231, 232, 233, 234, 235, 236, 237, 238, 239, 240, 241, 242, 243, 244, 245, 246, 247, 248, 249, 250, 251, 252, 253, 254, 255, 256, 257, 258, 259, 260, 261, 262, 263, 264, 265, 266, 267, 268, 269, 270, 271, 272, 273, 274, 275, 276, 277, 278, 279, 280, 281, 282, 283, 284, 285, 286, 287, 288, 289, 290, 291, 292, 293, 294, 295, 296, 297, 298, 299, 300, 301, 302, 303, 304, 305, 306, 307, 308, 309, 310, 311, 312, 313, 314, 315, 316, 317, 318, 319, 320, 321, 322, 323, 324, 325, 326, 327, 328, 329, 330, 331, 332, 333, 334, 335, 336, 337, 338, 339, 340, 341, 342, 343, 344, 345, 346, 347, 348, 349, 350, 351, 352, 353, 354, 355, 356, 357, 358, 359, 360, 361, 362, 363, 364, 365, 366, 367, 368, 369, 370, 371, 372, 373, 374, 375, 376, 377, 378, 379, 380, 381, 382, 383, 384, 385, 386, 387, 388, 389, 390, 391, 392, 393, 394, 395, 396, 397, 398, 399, 400, 401, 402, 403, 404, 405, 406, 407, 408, 409, 410, 411, 412, 413, 414, 415, 416, 417, 418, 419, 420, 421, 422, 423, 424, 425, 426, 427, 428, 429, 430, 431, 432, 433, 434, 435, 436, 437, 438, 439, 440, 441, 442, 443, 444, 445, 446, 447, 448, 449, 450, 451, 452, 453, 454, 455, 456, 457, 458, 459, 460, 461, 462, 463, 464, 465, 466, 467, 468, 469, 470, 471, 472, 473, 474, 475, 476, 477, 478, 479, 480, 481, 482, 483, 484, 485, 486, 487, 488, 489, 490, 491, 492, 493, 494, 495, 496, 497, 498, 499, 500, 501, 502, 503, 504, 505, 506, 507, 508, 509, 510, 511, 512, 513, 514, 515, 516, 517, 518, 519, 520, 521, 522, 523, 524, 525, 526, 527, 528, 529, 530, 531, 532, 533, 534, 535, 536, 537, 538, 539, 540, 541, 542, 543, 544, 545, 546, 547, 548, 549, 550, 551, 552, 553, 554, 555, 556, 557, 558, 559, 560, 561, 562, 563, 564, 565, 566, 567, 568, 569, 570, 571, 572, 573, 574, 575, 576, 577, 578, 579, 580, 581, 582, 583, 584, 585, 586, 587, 588, 589, 590, 591, 592, 593, 594, 595, 596, 597, 598, 599, 600, 601, 602, 603, 604, 605, 606, 607, 608, 609, 610, 611, 612, 613, 614, 615, 616, 617, 618, 619, 620, 621, 622, 623, 624, 625, 626, 627, 628, 629, 630, 631, 632, 633, 634, 635, 636, 637, 638, 639, 640, 641, 642, 643, 644, 645, 646, 647, 648, 649, 650, 651, 652, 653, 654, 655, 656, 657, 658, 659, 660, 661, 662, 663, 664, 665, 666, 667, 668, 669, 670, 671, 672, 673, 674, 675, 676, 677, 678, 679, 680, 681, 682, 683, 684, 685, 686, 687, 688, 689, 690, 691, 692, 693, 694, 695, 696, 697, 698, 699, 700, 701, 702, 703, 704, 705, 706, 707, 708, 709, 710, 711, 712, 713, 714, 715, 716, 717, 718, 719, 720, 721, 722, 723, 724, 725, 726, 727, 728, 729, 730, 731, 732, 733, 734, 735, 736, 737, 738, 739, 740, 741, 742, 743, 744, 745, 746, 747, 748, 749, 750, 751, 752, 753, 754, 755, 756, 757, 758, 759, 760, 761, 762, 763, 764, 765, 766, 767, 768, 769, 770, 771, 772, 773, 774, 775, 776, 777, 778, 779, 780, 781, 782, 783, 784, 785, 786, 787, 788, 789, 790, 791, 792, 793, 794, 795, 796, 797, 798, 799, 800, 801, 802, 803, 804, 805, 806, 807, 808, 809, 810, 811, 812, 813, 814, 815, 816, 817, 818, 819, 820, 821, 822, 823, 824, 825, 826, 827, 828, 829, 830, 831, 832, 833, 834, 835, 836, 837, 838, 839, 840, 841, 842, 843, 844, 845, 846, 847, 848, 849, 850, 851, 852, 853, 854, 855, 856, 857, 858, 859, 860, 861, 862, 863, 864, 865, 866, 867, 868, 869, 870, 871, 872, 873, 874, 875, 876, 877, 878, 879, 880, 881, 882, 883, 884, 885, 886, 887, 888, 889, 890, 891, 892, 893, 894, 895, 896, 897, 898, 899, 900, 901, 902, 903, 904, 905, 906, 907, 908, 909, 910, 911, 912, 913, 914, 915, 916, 917, 918, 919, 920, 921, 922, 923, 924, 925, 926, 927, 928, 929, 930, 931, 932, 933, 934, 935, 936, 937, 938, 939, 940, 941, 942, 943, 944, 945, 946, 947, 948, 949, 950, 951, 952, 953, 954, 955, 956, 957, 958, 959, 960, 961, 962, 963, 964, 965, 966, 967, 968, 969, 970, 971, 972, 973, 974, 975, 976, 977, 978, 979, 980, 981, 982, 983, 984, 985, 986, 987, 988, 989, 990, 991, 992, 993, 994, 995, 996, 997]\n",
      "Frazione di testimoni: 1.0\n",
      "Frazione di testimoni > 50%: True\n",
      "\n",
      "Numero: 997 è primo? True\n",
      "Realmente è primo? True\n",
      "Ordine di Z* di 997: 996\n",
      "Testimoni: []\n",
      "Frazione di testimoni: 0.0\n",
      "Frazione di testimoni > 50%: False\n",
      "\n",
      "Numero: 973 è primo? False\n",
      "Realmente è primo? False\n",
      "Ordine di Z* di 973: 138\n",
      "Testimoni: [2, 3, 4, 5, 6, 7, 8, 9, 10, 11, 12, 13, 14, 15, 16, 17, 18, 19, 20, 21, 22, 23, 24, 25, 26, 27, 28, 29, 30, 31, 32, 33, 34, 35, 36, 37, 38, 39, 40, 41, 42, 43, 44, 45, 46, 47, 48, 49, 50, 51, 52, 53, 54, 55, 56, 57, 58, 59, 60, 61, 62, 63, 64, 65, 66, 67, 68, 69, 70, 71, 72, 73, 74, 75, 76, 77, 78, 79, 80, 81, 82, 83, 84, 85, 86, 87, 88, 89, 90, 91, 92, 93, 94, 95, 96, 97, 98, 99, 100, 101, 102, 103, 104, 105, 106, 107, 108, 109, 110, 111, 112, 113, 114, 115, 116, 117, 118, 119, 120, 121, 122, 123, 124, 125, 126, 127, 128, 129, 130, 131, 132, 133, 134, 135, 136, 137, 138, 139, 140, 141, 142, 143, 144, 145, 146, 147, 148, 149, 150, 151, 152, 153, 154, 155, 156, 157, 158, 159, 160, 161, 162, 163, 164, 165, 166, 167, 168, 169, 170, 171, 172, 173, 174, 175, 176, 177, 178, 179, 180, 181, 182, 183, 184, 185, 186, 187, 188, 189, 190, 191, 192, 193, 194, 195, 196, 197, 198, 199, 200, 201, 202, 203, 204, 205, 206, 207, 208, 209, 210, 211, 212, 213, 214, 215, 216, 217, 218, 219, 220, 221, 222, 223, 224, 225, 226, 227, 228, 229, 230, 231, 232, 233, 234, 235, 236, 237, 238, 239, 240, 241, 242, 243, 244, 245, 246, 247, 248, 249, 250, 251, 252, 253, 254, 255, 256, 257, 258, 259, 260, 261, 262, 263, 264, 265, 266, 267, 268, 269, 270, 271, 272, 273, 274, 275, 276, 277, 278, 279, 280, 281, 282, 283, 284, 285, 286, 287, 288, 289, 290, 291, 292, 293, 294, 295, 296, 297, 298, 299, 300, 301, 302, 303, 304, 305, 306, 307, 308, 309, 310, 311, 312, 313, 314, 315, 316, 317, 318, 319, 320, 321, 322, 323, 324, 325, 326, 327, 328, 329, 330, 331, 332, 333, 334, 335, 336, 337, 338, 339, 340, 341, 342, 343, 344, 345, 346, 347, 348, 349, 350, 351, 352, 353, 354, 355, 356, 357, 358, 359, 360, 361, 362, 363, 364, 365, 366, 367, 368, 369, 370, 371, 372, 373, 374, 375, 376, 377, 378, 379, 380, 381, 382, 383, 384, 385, 386, 387, 388, 389, 390, 391, 392, 393, 394, 395, 396, 397, 398, 399, 400, 401, 402, 403, 404, 405, 406, 407, 408, 409, 410, 411, 412, 413, 414, 415, 416, 417, 418, 419, 420, 421, 422, 423, 424, 425, 426, 427, 428, 429, 430, 431, 432, 433, 434, 435, 436, 437, 438, 439, 440, 441, 442, 443, 444, 445, 446, 447, 448, 449, 450, 451, 452, 453, 454, 455, 456, 457, 458, 459, 460, 461, 462, 463, 464, 465, 466, 467, 468, 469, 470, 471, 472, 473, 474, 475, 476, 477, 478, 479, 480, 481, 482, 483, 484, 485, 486, 487, 488, 489, 490, 491, 492, 493, 494, 495, 496, 497, 498, 499, 500, 501, 502, 503, 504, 505, 506, 507, 508, 509, 510, 511, 512, 513, 514, 515, 516, 517, 518, 519, 520, 521, 522, 523, 524, 525, 526, 527, 528, 529, 530, 531, 532, 533, 534, 535, 536, 537, 538, 539, 540, 541, 542, 543, 544, 545, 546, 547, 548, 549, 550, 551, 552, 553, 554, 555, 556, 557, 558, 559, 560, 561, 562, 563, 564, 565, 566, 567, 568, 569, 570, 571, 572, 573, 574, 575, 576, 577, 578, 579, 580, 581, 582, 583, 584, 585, 586, 587, 588, 589, 590, 591, 592, 593, 594, 595, 596, 597, 598, 599, 600, 601, 602, 603, 604, 605, 606, 607, 608, 609, 610, 611, 612, 613, 614, 615, 616, 617, 618, 619, 620, 621, 622, 623, 624, 625, 626, 627, 628, 629, 630, 631, 632, 633, 634, 635, 636, 637, 638, 639, 640, 641, 642, 643, 644, 645, 646, 647, 648, 649, 650, 651, 652, 653, 654, 655, 656, 657, 658, 659, 660, 661, 662, 663, 664, 665, 666, 667, 668, 669, 670, 671, 672, 673, 674, 675, 676, 677, 678, 679, 680, 681, 682, 683, 684, 685, 686, 687, 688, 689, 690, 691, 692, 693, 694, 695, 696, 697, 698, 699, 700, 701, 702, 703, 704, 705, 706, 707, 708, 709, 710, 711, 712, 713, 714, 715, 716, 717, 718, 719, 720, 721, 722, 723, 724, 725, 726, 727, 728, 729, 730, 731, 732, 733, 734, 735, 736, 737, 738, 739, 740, 741, 742, 743, 744, 745, 746, 747, 748, 749, 750, 751, 752, 753, 754, 755, 756, 757, 758, 759, 760, 761, 762, 763, 764, 765, 766, 767, 768, 769, 770, 771, 772, 773, 774, 775, 776, 777, 778, 779, 780, 781, 782, 783, 784, 785, 786, 787, 788, 789, 790, 791, 792, 793, 794, 795, 796, 797, 798, 799, 800, 801, 802, 803, 804, 805, 806, 807, 808, 809, 810, 811, 812, 813, 814, 815, 816, 817, 818, 819, 820, 821, 822, 823, 824, 825, 826, 827, 828, 829, 830, 831, 832, 833, 834, 835, 836, 837, 838, 839, 840, 841, 842, 843, 844, 845, 846, 847, 848, 849, 850, 851, 852, 853, 854, 855, 856, 857, 858, 859, 860, 861, 862, 863, 864, 865, 866, 867, 868, 869, 870, 871, 872, 873, 874, 875, 876, 877, 878, 879, 880, 881, 882, 883, 884, 885, 886, 887, 888, 889, 890, 891, 892, 893, 894, 895, 896, 897, 898, 899, 900, 901, 902, 903, 904, 905, 906, 907, 908, 909, 910, 911, 912, 913, 914, 915, 916, 917, 918, 919, 920, 921, 922, 923, 924, 925, 926, 927, 928, 929, 930, 931, 932, 933, 934, 935, 936, 937, 938, 939, 940, 941, 942, 943, 944, 945, 946, 947, 948, 949, 950, 951, 952, 953, 954, 955, 956, 957, 958, 959, 960, 961, 962, 963, 964, 965, 966, 967, 968, 969, 970, 971]\n",
      "Frazione di testimoni: 1.0\n",
      "Frazione di testimoni > 50%: True\n",
      "\n"
     ]
    }
   ],
   "source": [
    "print(f\"Numero: {n1} è primo? {prime_n1}\")\n",
    "print(f\"Realmente è primo? {is_prime(n1)}\")\n",
    "print(f\"Ordine di Z* di {n1}: {order_n1}\")\n",
    "print(f\"Testimoni: {witnesses_n1}\")\n",
    "print(f\"Frazione di testimoni: {fraction_n1}\")\n",
    "print(f\"Frazione di testimoni > 50%: {fraction_n1 > 0.5}\\n\")\n",
    "\n",
    "print(f\"Numero: {n2} è primo? {prime_n2}\")\n",
    "print(f\"Realmente è primo? {is_prime(n2)}\")\n",
    "print(f\"Ordine di Z* di {n2}: {order_n2}\")\n",
    "print(f\"Testimoni: {witnesses_n2}\")\n",
    "print(f\"Frazione di testimoni: {fraction_n2}\")\n",
    "print(f\"Frazione di testimoni > 50%: {fraction_n2 > 0.5}\\n\")\n",
    "\n",
    "print(f\"Numero: {n3} è primo? {prime_n3}\")\n",
    "print(f\"Realmente è primo? {is_prime(n3)}\")\n",
    "print(f\"Ordine di Z* di {n3}: {order_n3}\")\n",
    "print(f\"Testimoni: {witnesses_n3}\")\n",
    "print(f\"Frazione di testimoni: {fraction_n3}\")\n",
    "print(f\"Frazione di testimoni > 50%: {fraction_n3 > 0.5}\\n\")"
   ]
  },
  {
   "cell_type": "markdown",
   "metadata": {},
   "source": [
    "### Esecuzione Test - 100000 run"
   ]
  },
  {
   "cell_type": "code",
   "execution_count": 9,
   "metadata": {},
   "outputs": [
    {
     "name": "stdout",
     "output_type": "stream",
     "text": [
      "Numero: 999 volte in cui è primo: 0 con probabilità: 0.0\n",
      "Numero: 997 volte in cui è primo: 10000 con probabilità: 1.0\n",
      "Numero: 973 volte in cui è primo: 0 con probabilità: 0.0\n"
     ]
    }
   ],
   "source": [
    "numberRun = 10000\n",
    "\n",
    "# Calcolo delle volte in cui la frazione di testimoni è maggiore di 50% per n1, n2 e n3\n",
    "count_n1 = 0\n",
    "count_n2 = 0\n",
    "count_n3 = 0\n",
    "\n",
    "# Calcolo delle frazioni di testimoni per n1, n2 e n3\n",
    "for i in range(numberRun):\n",
    "    # Calcolo dei testimoni per n1, n2 e n3\n",
    "    witnesses_n1, prime_n1 = find_witnesses(n1)\n",
    "    witnesses_n2, prime_n2 = find_witnesses(n2)\n",
    "    witnesses_n3, prime_n3 = find_witnesses(n3)\n",
    "\n",
    "    # Calcolo delle frazioni di testimoni per n1, n2 e n3\n",
    "    fraction_n1 = len(witnesses_n1) / (n1 - 3)\n",
    "    fraction_n2 = len(witnesses_n2) / (n2 - 3)\n",
    "    fraction_n3 = len(witnesses_n3) / (n3 - 3)\n",
    "\n",
    "    if prime_n1:\n",
    "        count_n1 += 1\n",
    "\n",
    "    if prime_n2:\n",
    "        count_n2 += 1\n",
    "    \n",
    "    if prime_n3:\n",
    "        count_n3 += 1\n",
    "\n",
    "print(f\"Numero: {n1} volte in cui è primo: {count_n1} con probabilità: {count_n1 / numberRun}\")\n",
    "print(f\"Numero: {n2} volte in cui è primo: {count_n2} con probabilità: {count_n2 / numberRun}\")\n",
    "print(f\"Numero: {n3} volte in cui è primo: {count_n3} con probabilità: {count_n3 / numberRun}\")"
   ]
  },
  {
   "cell_type": "markdown",
   "metadata": {},
   "source": [
    "### Plotting dei Risultati "
   ]
  },
  {
   "cell_type": "code",
   "execution_count": 10,
   "metadata": {},
   "outputs": [
    {
     "data": {
      "image/png": "[encoded data removed]",
      "text/plain": [
       "<Figure size 640x480 with 1 Axes>"
      ]
     },
     "metadata": {},
     "output_type": "display_data"
    }
   ],
   "source": [
    "\n",
    "plt.bar([n1, n2, n3], [count_n1, count_n2, count_n3])\n",
    "plt.xlabel('Possibili primi')\n",
    "plt.ylabel('Numero di run in cui è primo')\n",
    "plt.show()"
   ]
  },
  {
   "cell_type": "markdown",
   "metadata": {},
   "source": [
    "## Conclusioni\n",
    "\n",
    "Il numero 999 non è primo, ma il test di Miller-Rabin lo ha riconosciuto come tale in 100000 run su 100000.<br>\n",
    "Il numero 997 invece è primo, e il test di Miller-Rabin lo ha riconosciuto come tale in 100000 run su 100000.<br>\n",
    "Il numero 973 invece non è primo, e il test di Miller-Rabin lo ha riconosciuto come tale in 100000 run su 100000.<br>\n",
    "\n",
    "Bisogna che però ci fermiamo ad fare un osservazione sul numero 973.<br>\n",
    "Anche se per tutte le 100000 run il test di Miller-Rabin ha riconosciuto il numero 973 come non primo, quindi correttamente, potrebbe accedere che per un numero più elevato di run il test di Miller-Rabin dia un falso positivo. \n",
    "Ovvero 973 è detto numeri di Carmichael, ovvero un numero composto che soddisfa la consgurneza di Fermat per ogni a coprimo con 973 (nel nostro caso se solo se a non è divisibile per 7 e 139).<br>\n",
    "\n",
    "Infine, possiamo constatare che la frazione dei testimoni è sempre maggiore del 50% e che quindi il test di Miller-Rabin è un test probabilistico che ci permette di riconoscere se un numero è primo o composto con una probabilità di errore pari a 1/4.<br>"
   ]
  }
 ],
 "metadata": {
  "kernelspec": {
   "display_name": "Python 3",
   "language": "python",
   "name": "python3"
  },
  "language_info": {
   "codemirror_mode": {
    "name": "ipython",
    "version": 3
   },
   "file_extension": ".py",
   "mimetype": "text/x-python",
   "name": "python",
   "nbconvert_exporter": "python",
   "pygments_lexer": "ipython3",
   "version": "3.10.11"
  },
  "orig_nbformat": 4
 },
 "nbformat": 4,
 "nbformat_minor": 2
}
