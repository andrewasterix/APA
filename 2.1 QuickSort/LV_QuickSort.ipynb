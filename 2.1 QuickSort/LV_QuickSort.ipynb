{
 "cells": [
  {
   "attachments": {},
   "cell_type": "markdown",
   "metadata": {},
   "source": [
    "# APA a.a. 22/23 - Algoritmo \"Las Vegas\" QuickSort\n",
    "\n",
    "Lontani dal caso peggiore: Las Vegas QuickSort (Compito 2.1 delle note)\n",
    "\n",
    "![alt text](2.1.jpg \"QuickSort\")"
   ]
  },
  {
   "attachments": {},
   "cell_type": "markdown",
   "metadata": {},
   "source": [
    "## Librerie necessarie"
   ]
  },
  {
   "cell_type": "code",
   "execution_count": 1,
   "metadata": {},
   "outputs": [
    {
     "name": "stdout",
     "output_type": "stream",
     "text": [
      "Requirement already satisfied: numpy in c:\\users\\andre\\appdata\\local\\packages\\pythonsoftwarefoundation.python.3.10_qbz5n2kfra8p0\\localcache\\local-packages\\python310\\site-packages (1.24.2)\n",
      "Note: you may need to restart the kernel to use updated packages.\n"
     ]
    },
    {
     "name": "stderr",
     "output_type": "stream",
     "text": [
      "\n",
      "[notice] A new release of pip is available: 23.1.2 -> 23.2.1\n",
      "[notice] To update, run: C:\\Users\\andre\\AppData\\Local\\Microsoft\\WindowsApps\\PythonSoftwareFoundation.Python.3.10_qbz5n2kfra8p0\\python.exe -m pip install --upgrade pip\n"
     ]
    },
    {
     "name": "stdout",
     "output_type": "stream",
     "text": [
      "Requirement already satisfied: matplotlib in c:\\users\\andre\\appdata\\local\\packages\\pythonsoftwarefoundation.python.3.10_qbz5n2kfra8p0\\localcache\\local-packages\\python310\\site-packages (3.7.1)\n",
      "Requirement already satisfied: contourpy>=1.0.1 in c:\\users\\andre\\appdata\\local\\packages\\pythonsoftwarefoundation.python.3.10_qbz5n2kfra8p0\\localcache\\local-packages\\python310\\site-packages (from matplotlib) (1.0.7)\n",
      "Requirement already satisfied: cycler>=0.10 in c:\\users\\andre\\appdata\\local\\packages\\pythonsoftwarefoundation.python.3.10_qbz5n2kfra8p0\\localcache\\local-packages\\python310\\site-packages (from matplotlib) (0.11.0)\n",
      "Requirement already satisfied: fonttools>=4.22.0 in c:\\users\\andre\\appdata\\local\\packages\\pythonsoftwarefoundation.python.3.10_qbz5n2kfra8p0\\localcache\\local-packages\\python310\\site-packages (from matplotlib) (4.39.3)\n",
      "Requirement already satisfied: kiwisolver>=1.0.1 in c:\\users\\andre\\appdata\\local\\packages\\pythonsoftwarefoundation.python.3.10_qbz5n2kfra8p0\\localcache\\local-packages\\python310\\site-packages (from matplotlib) (1.4.4)\n",
      "Requirement already satisfied: numpy>=1.20 in c:\\users\\andre\\appdata\\local\\packages\\pythonsoftwarefoundation.python.3.10_qbz5n2kfra8p0\\localcache\\local-packages\\python310\\site-packages (from matplotlib) (1.24.2)\n",
      "Requirement already satisfied: packaging>=20.0 in c:\\users\\andre\\appdata\\local\\packages\\pythonsoftwarefoundation.python.3.10_qbz5n2kfra8p0\\localcache\\local-packages\\python310\\site-packages (from matplotlib) (23.0)\n",
      "Requirement already satisfied: pillow>=6.2.0 in c:\\users\\andre\\appdata\\local\\packages\\pythonsoftwarefoundation.python.3.10_qbz5n2kfra8p0\\localcache\\local-packages\\python310\\site-packages (from matplotlib) (9.2.0)\n",
      "Requirement already satisfied: pyparsing>=2.3.1 in c:\\users\\andre\\appdata\\local\\packages\\pythonsoftwarefoundation.python.3.10_qbz5n2kfra8p0\\localcache\\local-packages\\python310\\site-packages (from matplotlib) (3.0.9)\n",
      "Requirement already satisfied: python-dateutil>=2.7 in c:\\users\\andre\\appdata\\local\\packages\\pythonsoftwarefoundation.python.3.10_qbz5n2kfra8p0\\localcache\\local-packages\\python310\\site-packages (from matplotlib) (2.8.2)\n",
      "Requirement already satisfied: six>=1.5 in c:\\users\\andre\\appdata\\local\\packages\\pythonsoftwarefoundation.python.3.10_qbz5n2kfra8p0\\localcache\\local-packages\\python310\\site-packages (from python-dateutil>=2.7->matplotlib) (1.16.0)\n",
      "Note: you may need to restart the kernel to use updated packages.\n"
     ]
    },
    {
     "name": "stderr",
     "output_type": "stream",
     "text": [
      "\n",
      "[notice] A new release of pip is available: 23.1.2 -> 23.2.1\n",
      "[notice] To update, run: C:\\Users\\andre\\AppData\\Local\\Microsoft\\WindowsApps\\PythonSoftwareFoundation.Python.3.10_qbz5n2kfra8p0\\python.exe -m pip install --upgrade pip\n"
     ]
    }
   ],
   "source": [
    "%pip install numpy\n",
    "%pip install matplotlib"
   ]
  },
  {
   "attachments": {},
   "cell_type": "markdown",
   "metadata": {},
   "source": [
    "\n",
    "## Implementazione Algoritmo\n",
    "\n",
    "Librerie necessarie. <br>\n",
    "Numero di comparazioni da effetturare nella ricorsione."
   ]
  },
  {
   "cell_type": "code",
   "execution_count": 2,
   "metadata": {},
   "outputs": [],
   "source": [
    "import random\n",
    "import numpy as np\n",
    "import matplotlib.pyplot as plt\n",
    "Xr = 0 #Numero di Comparazioni"
   ]
  },
  {
   "attachments": {},
   "cell_type": "markdown",
   "metadata": {},
   "source": [
    "### Funzioni Ausiliarie\n",
    "Funzione iniziale dell'algoritmo ricorsivo.<br>\n",
    "Eseguo un controllo se la lista ha almeno due elementi procedo con la scelta randomina nel nuovo pivot, altrimenti ritorno."
   ]
  },
  {
   "cell_type": "code",
   "execution_count": 3,
   "metadata": {},
   "outputs": [],
   "source": [
    "# QuickSort con scelta del pivot casuale\n",
    "def LV_QuickSort(list, start, end):\n",
    "    #Se la lista ha almeno due elementi\n",
    "    if(start < end):\n",
    "        #Scelta del pivot\n",
    "        indexPivot = randomPartition(list, start, end) \n",
    "        #Chiamata ricorsiva per la prima metà\n",
    "        LV_QuickSort(list, start, indexPivot - 1)\n",
    "        #Chiamata ricorsiva per la seconda metà\n",
    "        LV_QuickSort(list, indexPivot + 1, end) "
   ]
  },
  {
   "attachments": {},
   "cell_type": "markdown",
   "metadata": {},
   "source": [
    "Funzione per la scelta randomica del nuovo pivot.<br>\n",
    "random.randrange(start, end): ritorna un valore casuale contenuto tra i limiti che gli vengono passati.<br>\n",
    "Ottenuto il nuovo pivot scambio l'elemento che sta nella posizione del pivot con il primo elemento della lista."
   ]
  },
  {
   "cell_type": "code",
   "execution_count": 4,
   "metadata": {},
   "outputs": [],
   "source": [
    "# Scelta del pivot casuale\n",
    "def randomPartition(list, start, end):\n",
    "    #Scelta del pivot casuale nel range della lista\n",
    "    randPivot = random.randrange(start, end) \n",
    "    #Scambio del pivot con il primo elemento della lista\n",
    "    list[start], list[randPivot] = list[randPivot], list[start]\n",
    "    #Chiamata della funzione partition\n",
    "    return partition(list, start, end)"
   ]
  },
  {
   "attachments": {},
   "cell_type": "markdown",
   "metadata": {},
   "source": [
    "Funzione di partizione della lista.<br>\n",
    "Scorro la lista, mantendo il conto del numero di confronti effettuati.<br>\n",
    "Durante lo scorrimento della lista ordino i valori in ordine crescente.<br>\n",
    "Completato il ciclo, scambio l'elemento nella posizione del pivot con l'elemento precedente all'indice i raggiunto."
   ]
  },
  {
   "cell_type": "code",
   "execution_count": 5,
   "metadata": {},
   "outputs": [],
   "source": [
    "\n",
    "# Funzione partition\n",
    "def partition(list, start, end):\n",
    "    i = start + 1 #Indice per scorrere la lista\n",
    "\n",
    "    for j in range(start + 1, end + 1):\n",
    "        global Xr \n",
    "        Xr += 1 #Incremento il numero di confronti\n",
    "        if(list[j] < list[start]):\n",
    "            #Scambio i valori\n",
    "            list[i], list[j] = list[j], list[i]\n",
    "            i += 1\n",
    "    #Scambio il pivot con l'elemento precedente all'indice i\n",
    "    list[start], list[i - 1] = list[i - 1], list[start]\n",
    "    return i - 1"
   ]
  },
  {
   "attachments": {},
   "cell_type": "markdown",
   "metadata": {},
   "source": [
    "Funzione per l'iniziallizzazione di una lista di elementi casuali.<br>"
   ]
  },
  {
   "cell_type": "code",
   "execution_count": 6,
   "metadata": {},
   "outputs": [],
   "source": [
    "# Funzione per creare una sequenza di numeri random\n",
    "def randomSequence(list, nElements):\n",
    "    for i in range(1, nElements+1):\n",
    "        list.append(i)\n",
    "    #Mischio la lista randomicamente\n",
    "    random.shuffle(list) "
   ]
  },
  {
   "attachments": {},
   "cell_type": "markdown",
   "metadata": {},
   "source": [
    "### MAIN"
   ]
  },
  {
   "attachments": {},
   "cell_type": "markdown",
   "metadata": {},
   "source": [
    "Inizializzazione della lista di comparazioni.<br>\n",
    "Inizializzaione della lista di elementi casuali.<br>"
   ]
  },
  {
   "cell_type": "code",
   "execution_count": 7,
   "metadata": {},
   "outputs": [],
   "source": [
    "# Numero di volte che viene eseguito l'algoritmo\n",
    "numberRunning = pow(10, 5)\n",
    "\n",
    "# Array per il numero di confronti\n",
    "numberComparisons = np.zeros(numberRunning)\n",
    "\n",
    "#Creo la sequenza di numeri\n",
    "nElements = pow(10, 4)\n",
    "list = []\n",
    "randomSequence(list, nElements)    "
   ]
  },
  {
   "attachments": {},
   "cell_type": "markdown",
   "metadata": {},
   "source": [
    "Esecuzione dell'algoritmo.<br>"
   ]
  },
  {
   "cell_type": "code",
   "execution_count": 8,
   "metadata": {},
   "outputs": [],
   "source": [
    "for i in range(0, numberRunning):\n",
    "    tmp = list.copy()\n",
    "    LV_QuickSort(tmp, 0, len(tmp)-1)\n",
    "    numberComparisons[i] = Xr\n",
    "    Xr = 0"
   ]
  },
  {
   "attachments": {},
   "cell_type": "markdown",
   "metadata": {},
   "source": [
    "#### Calcolo del valor medio e della deviazione standard"
   ]
  },
  {
   "cell_type": "code",
   "execution_count": 14,
   "metadata": {},
   "outputs": [
    {
     "name": "stdout",
     "output_type": "stream",
     "text": [
      "Numero di confronti massimo:  201178.0\n",
      "Numero di confronti medio:  155775.2118\n",
      "Deviazione Standard:  6455.321601345727\n"
     ]
    }
   ],
   "source": [
    "mean = 0 #Valore Medio \n",
    "std_dev = 0 #Deviazione Standard\n",
    "\n",
    "mean = np.mean(numberComparisons)\n",
    "std_dev = np.std(numberComparisons)\n",
    "\n",
    "print(\"Numero di confronti massimo: \", np.max(numberComparisons))\n",
    "print(\"Numero di confronti medio: \", mean)\n",
    "print(\"Deviazione Standard: \", std_dev)"
   ]
  },
  {
   "attachments": {},
   "cell_type": "markdown",
   "metadata": {},
   "source": [
    "PLot del grafico.<br>"
   ]
  },
  {
   "cell_type": "code",
   "execution_count": 15,
   "metadata": {},
   "outputs": [
    {
     "data": {
      "image/png": "[encoded data removed]",
      "text/plain": [
       "<Figure size 640x480 with 1 Axes>"
      ]
     },
     "metadata": {},
     "output_type": "display_data"
    }
   ],
   "source": [
    "plt.hist(numberComparisons, bins = 50, edgecolor = 'black', linewidth = 1.2)\n",
    "plt.axvline(x=mean, color='r', linestyle='-', label=\"Media\")\n",
    "plt.axvline(x=mean - std_dev, color='g', linestyle='--', label=\"Media - StdDev\")\n",
    "plt.axvline(x=mean + std_dev, color='g', linestyle='--', label=\"Media + StdDev\")\n",
    "plt.title('QuickSort')\n",
    "plt.xlabel('Numero di confronti')\n",
    "plt.ylabel('Frequenza')\n",
    "plt.legend();\n",
    "plt.show()"
   ]
  },
  {
   "attachments": {},
   "cell_type": "markdown",
   "metadata": {},
   "source": [
    "## Conclusioni\n",
    "Basandomi sui risultati ottenuti, posso affermare che le probabilità che LV_Quicksort effettui il doppio e il quintuplo del valore medio dei confronti sono molto basse.<br>\n",
    "\n",
    "Questa affermazione è supportata dal fatto che la scelta del pivot randomizzato, che è stata implementata in LV_Quicksort, riduce la probabilità di ottenere un pivot che sia il minimo o il massimo dell'array, e quindi di ottenere un albero ricorsivo sbilanciato, evitando così di cadere nel caso peggiore.<br>"
   ]
  }
 ],
 "metadata": {
  "kernelspec": {
   "display_name": "Python 3",
   "language": "python",
   "name": "python3"
  },
  "language_info": {
   "codemirror_mode": {
    "name": "ipython",
    "version": 3
   },
   "file_extension": ".py",
   "mimetype": "text/x-python",
   "name": "python",
   "nbconvert_exporter": "python",
   "pygments_lexer": "ipython3",
   "version": "3.10.11"
  },
  "orig_nbformat": 4
 },
 "nbformat": 4,
 "nbformat_minor": 2
}
