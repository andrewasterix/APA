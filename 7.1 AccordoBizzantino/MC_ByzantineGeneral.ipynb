{
 "cells": [
  {
   "attachments": {},
   "cell_type": "markdown",
   "metadata": {},
   "source": [
    "# APA a.a. 22/23 - Accordo Bizantino Monte Carlo\n",
    "\n",
    "Lontani dal caso peggiore: Accordo Bizantino Monte Carlo (Compito 7.1 delle note)<br>\n",
    "![alt text](7.1.png \"Accordo Bizantino Monte Carlo\")\n",
    "\n",
    "## Librerie Necessarie"
   ]
  },
  {
   "cell_type": "code",
   "execution_count": 1,
   "metadata": {},
   "outputs": [
    {
     "name": "stdout",
     "output_type": "stream",
     "text": [
      "Requirement already satisfied: numpy in c:\\users\\andre\\appdata\\local\\packages\\pythonsoftwarefoundation.python.3.10_qbz5n2kfra8p0\\localcache\\local-packages\\python310\\site-packages (1.24.2)\n",
      "Note: you may need to restart the kernel to use updated packages.\n"
     ]
    },
    {
     "name": "stderr",
     "output_type": "stream",
     "text": [
      "\n",
      "[notice] A new release of pip is available: 23.1.2 -> 23.2.1\n",
      "[notice] To update, run: C:\\Users\\andre\\AppData\\Local\\Microsoft\\WindowsApps\\PythonSoftwareFoundation.Python.3.10_qbz5n2kfra8p0\\python.exe -m pip install --upgrade pip\n"
     ]
    },
    {
     "name": "stdout",
     "output_type": "stream",
     "text": [
      "Requirement already satisfied: matplotlib in c:\\users\\andre\\appdata\\local\\packages\\pythonsoftwarefoundation.python.3.10_qbz5n2kfra8p0\\localcache\\local-packages\\python310\\site-packages (3.7.1)Note: you may need to restart the kernel to use updated packages.\n",
      "\n",
      "Requirement already satisfied: contourpy>=1.0.1 in c:\\users\\andre\\appdata\\local\\packages\\pythonsoftwarefoundation.python.3.10_qbz5n2kfra8p0\\localcache\\local-packages\\python310\\site-packages (from matplotlib) (1.0.7)\n",
      "Requirement already satisfied: cycler>=0.10 in c:\\users\\andre\\appdata\\local\\packages\\pythonsoftwarefoundation.python.3.10_qbz5n2kfra8p0\\localcache\\local-packages\\python310\\site-packages (from matplotlib) (0.11.0)\n",
      "Requirement already satisfied: fonttools>=4.22.0 in c:\\users\\andre\\appdata\\local\\packages\\pythonsoftwarefoundation.python.3.10_qbz5n2kfra8p0\\localcache\\local-packages\\python310\\site-packages (from matplotlib) (4.39.3)\n",
      "Requirement already satisfied: kiwisolver>=1.0.1 in c:\\users\\andre\\appdata\\local\\packages\\pythonsoftwarefoundation.python.3.10_qbz5n2kfra8p0\\localcache\\local-packages\\python310\\site-packages (from matplotlib) (1.4.4)\n",
      "Requirement already satisfied: numpy>=1.20 in c:\\users\\andre\\appdata\\local\\packages\\pythonsoftwarefoundation.python.3.10_qbz5n2kfra8p0\\localcache\\local-packages\\python310\\site-packages (from matplotlib) (1.24.2)\n",
      "Requirement already satisfied: packaging>=20.0 in c:\\users\\andre\\appdata\\local\\packages\\pythonsoftwarefoundation.python.3.10_qbz5n2kfra8p0\\localcache\\local-packages\\python310\\site-packages (from matplotlib) (23.0)\n",
      "Requirement already satisfied: pillow>=6.2.0 in c:\\users\\andre\\appdata\\local\\packages\\pythonsoftwarefoundation.python.3.10_qbz5n2kfra8p0\\localcache\\local-packages\\python310\\site-packages (from matplotlib) (9.2.0)\n",
      "Requirement already satisfied: pyparsing>=2.3.1 in c:\\users\\andre\\appdata\\local\\packages\\pythonsoftwarefoundation.python.3.10_qbz5n2kfra8p0\\localcache\\local-packages\\python310\\site-packages (from matplotlib) (3.0.9)\n",
      "Requirement already satisfied: python-dateutil>=2.7 in c:\\users\\andre\\appdata\\local\\packages\\pythonsoftwarefoundation.python.3.10_qbz5n2kfra8p0\\localcache\\local-packages\\python310\\site-packages (from matplotlib) (2.8.2)\n",
      "Requirement already satisfied: six>=1.5 in c:\\users\\andre\\appdata\\local\\packages\\pythonsoftwarefoundation.python.3.10_qbz5n2kfra8p0\\localcache\\local-packages\\python310\\site-packages (from python-dateutil>=2.7->matplotlib) (1.16.0)\n"
     ]
    },
    {
     "name": "stderr",
     "output_type": "stream",
     "text": [
      "\n",
      "[notice] A new release of pip is available: 23.1.2 -> 23.2.1\n",
      "[notice] To update, run: C:\\Users\\andre\\AppData\\Local\\Microsoft\\WindowsApps\\PythonSoftwareFoundation.Python.3.10_qbz5n2kfra8p0\\python.exe -m pip install --upgrade pip\n"
     ]
    }
   ],
   "source": [
    "%pip install numpy\n",
    "%pip install matplotlib"
   ]
  },
  {
   "attachments": {},
   "cell_type": "markdown",
   "metadata": {},
   "source": [
    "\n",
    "## Implementazione Algoritmo\n",
    "\n",
    "Importo le librerie necessarie. <br>"
   ]
  },
  {
   "cell_type": "code",
   "execution_count": 2,
   "metadata": {},
   "outputs": [],
   "source": [
    "import numpy as np\n",
    "import matplotlib.pyplot as plt"
   ]
  },
  {
   "attachments": {},
   "cell_type": "markdown",
   "metadata": {},
   "source": [
    "### Funzioni di Supporto\n",
    "\n",
    "#### majorityValueCounter\n",
    "Funzione per il calcolo del numero di 1 e 0 in un vettore. <br>\n",
    "Sommo gli elementi del vettore (il numero delle ripetizioni di 1 è uguale alla somma degli 1). <br>\n",
    "Sottraggo il risultato alla lunghezza del vettore (Lunghezza - Somma degli 1 = Numero di 0). <br>\n",
    "In questo modo ottengo il numero di 1 e 0. <br>\n",
    "Ritorno il numero di 1 e 0. <br>\n",
    "\n",
    "Parametri: vettore di interi (0 e 1)\n",
    "Return: numero di 1 e 0\n",
    "\n",
    "Esempio: majorityValueCounter([0, 1, 1, 0, 1]) -> 3, 2\n",
    "         majorityValueCounter([0, 0, 0, 0, 0]) -> 0, 5\n"
   ]
  },
  {
   "cell_type": "code",
   "execution_count": 3,
   "metadata": {},
   "outputs": [],
   "source": [
    "def majorityValueCounter(generalList):\n",
    "    # Contatore per il numero di 1 e 0\n",
    "    one = np.sum(generalList) # Somma degli elementi del vettore\n",
    "    zero = len(generalList) - one\n",
    "    \n",
    "    return one, zero"
   ]
  },
  {
   "attachments": {},
   "cell_type": "markdown",
   "metadata": {},
   "source": [
    "## Esecuzione Algoritmo\n",
    "\n",
    "Inizializzo le variabili necessarie. <br>"
   ]
  },
  {
   "cell_type": "code",
   "execution_count": 4,
   "metadata": {},
   "outputs": [],
   "source": [
    "# Numero di Running\n",
    "numberRunning = 2**10\n",
    "\n",
    "# Numero di Generali\n",
    "numberGeneral = 4\n",
    "\n",
    "# Numero di traditori\n",
    "numberTraitor = 1\n",
    "\n",
    "# Vettore dei round\n",
    "roundNumber = np.zeros(numberRunning)\n"
   ]
  },
  {
   "cell_type": "markdown",
   "metadata": {},
   "source": [
    "### Algoritmo"
   ]
  },
  {
   "cell_type": "code",
   "execution_count": 5,
   "metadata": {},
   "outputs": [],
   "source": [
    "for run in range(numberRunning):\n",
    "    # Numero di round per trovare l'accordo\n",
    "    messageRound = 0\n",
    "\n",
    "    # Vettore scelte iniziali\n",
    "    initialChoice = np.array([0, 0, 1, 1])\n",
    "\n",
    "    while True:\n",
    "        # Moneta globale \n",
    "        coin = np.random.randint(0, 2)\n",
    "\n",
    "        # Vettore majority: valore maggioritario tra i messaggi ricevuti\n",
    "        majorityValue = np.zeros(numberGeneral - numberTraitor)\n",
    "\n",
    "        # Vettore tally: valori uguali a majorityValue\n",
    "        tallyValue = np.zeros(numberGeneral - numberTraitor)\n",
    "\n",
    "        # Trasmissione e Ricezione messaggi\n",
    "        for i in range(numberGeneral - numberTraitor):\n",
    "            generalChoices = np.copy(initialChoice)\n",
    "            generalChoices[i] = 1 - generalChoices[i]  # Generale Traditore inverte il bit\n",
    "\n",
    "            counterOne, counterZero = majorityValueCounter(generalChoices)\n",
    "            if counterOne > counterZero:\n",
    "                majorityValue[i] = 1\n",
    "            else:\n",
    "                majorityValue[i] = 0\n",
    "\n",
    "            for j in range(numberGeneral):\n",
    "                if generalChoices[j] == majorityValue[i]:\n",
    "                    tallyValue[i] += 1\n",
    "\n",
    "        # Se tally >= 2*t+1, il generale i si adegua alla maggioranza e la scelta diventa uguale ai valori in majorityValue.\n",
    "        # Nel caso fosse già uguale ad esso non varia.\n",
    "        # Se tally < 2*t+1, il generale 'guarda' la moneta globale \n",
    "        # e sceglie '1' o '0' in base ad essa con probabilità pari a '1/2'.\n",
    "        for i in range(numberGeneral - numberTraitor):\n",
    "            if tallyValue[i] >= (2 * numberTraitor + 1):\n",
    "                initialChoice[i] = majorityValue[i]\n",
    "            else:\n",
    "                if coin == 1:\n",
    "                    initialChoice[i] = 1\n",
    "                else:\n",
    "                    initialChoice[i] = 0\n",
    "\n",
    "        # Incremento del numero di round\n",
    "        messageRound += 1\n",
    "\n",
    "        # Controllo se i generali hanno scelto tutti lo stesso valore\n",
    "        if np.all(initialChoice[:-1] == initialChoice[0]):\n",
    "            break\n",
    "\n",
    "    # Verifica della condizione per il round successivo\n",
    "    if messageRound < numberRunning:\n",
    "         if np.all(tallyValue >= (2 * numberTraitor + 1)) and coin == np.argmax(np.bincount(majorityValue.astype(int))):\n",
    "            messageRound += 1\n",
    "\n",
    "    roundNumber[run] = messageRound"
   ]
  },
  {
   "cell_type": "markdown",
   "metadata": {},
   "source": [
    "### Calcolo la frazione di run in cui l'accordo è raggiunto per ogni numero di round"
   ]
  },
  {
   "cell_type": "code",
   "execution_count": 6,
   "metadata": {},
   "outputs": [],
   "source": [
    "fractions = np.zeros(10)\n",
    "for r in range(1, 11):\n",
    "    fractions[r-1] = np.sum(roundNumber == r) / numberRunning"
   ]
  },
  {
   "cell_type": "markdown",
   "metadata": {},
   "source": [
    "### Grafico la frazione dei run in cui l'accordo è raggiunto in r = 1, 2, ..., 10 round"
   ]
  },
  {
   "cell_type": "code",
   "execution_count": 7,
   "metadata": {},
   "outputs": [
    {
     "data": {
      "image/png": "[encoded data removed]",
      "text/plain": [
       "<Figure size 640x480 with 1 Axes>"
      ]
     },
     "metadata": {},
     "output_type": "display_data"
    }
   ],
   "source": [
    "plt.plot(np.arange(1, 11), fractions)\n",
    "plt.xlabel('Numero di Round')\n",
    "plt.ylabel('Frazione di Run')\n",
    "plt.title('Frazione di Run in cui l\\'Accordo è Raggiunto')\n",
    "plt.grid(True)\n",
    "plt.show()"
   ]
  },
  {
   "cell_type": "markdown",
   "metadata": {},
   "source": [
    "### Grafico della distribuzione dei valori per round"
   ]
  },
  {
   "cell_type": "code",
   "execution_count": 8,
   "metadata": {},
   "outputs": [
    {
     "data": {
      "image/png": "[encoded data removed]",
      "text/plain": [
       "<Figure size 640x480 with 1 Axes>"
      ]
     },
     "metadata": {},
     "output_type": "display_data"
    }
   ],
   "source": [
    "unique_values, frequencies = np.unique(roundNumber, return_counts=True)\n",
    "\n",
    "# Calcola i valori centrali dei rettangoli\n",
    "x = unique_values\n",
    "\n",
    "# Crea l'istogramma con i rettangoli centrati\n",
    "plt.bar(x, frequencies, align='center', edgecolor='black')\n",
    "\n",
    "# Imposta i titoli degli assi\n",
    "plt.xlabel('Valore')\n",
    "plt.ylabel('Frequenza')\n",
    "\n",
    "plt.xticks(np.arange(min(x), max(x)+1, 2))\n",
    "\n",
    "# Mostra l'istogramma\n",
    "plt.show()"
   ]
  },
  {
   "cell_type": "markdown",
   "metadata": {},
   "source": [
    "### Media e Varianza"
   ]
  },
  {
   "cell_type": "code",
   "execution_count": 9,
   "metadata": {},
   "outputs": [
    {
     "name": "stdout",
     "output_type": "stream",
     "text": [
      "Numero di round:  [2. 2. 4. ... 6. 4. 2.]\n",
      "Media:  4.05078125\n",
      "Varianza:  7.9974212646484375\n"
     ]
    }
   ],
   "source": [
    "# Calcolo media dei round per raggiungere l'accordo tra i generali\n",
    "media = np.mean(roundNumber)\n",
    "# Calcolo varianza dei round per raggiungere l'accordo tra i generali\n",
    "varianza = np.var(roundNumber)\n",
    "\n",
    "print(\"Numero di round: \", roundNumber)\n",
    "print(\"Media: \", media)\n",
    "print(\"Varianza: \", varianza)"
   ]
  },
  {
   "cell_type": "markdown",
   "metadata": {},
   "source": [
    "## Conclusioni\n",
    "\n",
    "Eseguendo l'algoritmo più volte otteniamo sempre risultati simili ma non de tutto uguali, da tali risultati possiamo trarre alcune conclusioni generali per l'algoritmo preso in esame. <br>\n",
    "\n",
    "La media dei tentativi necessari per trovare l'accordo, nelle esecuzioni provate, si attesta in generale sempre in un intorno di 4. \n",
    "Questo ci indica che in generale, il numero di tentativi necessari si avvicina a 4, anche se ci sono molti round in cui l'accordo viene raggiunto con soli 2 tentativi. Da notarsi inoltre che i casi in cui il numero di tentati è maggiore a 10 e relativamente basso. <br>\n",
    "\n",
    "La varianza, invece, si attesta in un intorno di 7, questo indica che i valori sono abbastanza dispersi intorno alla media descritta prima. Infatti, ci sono round in cui l'accordo viene trovato rapidamente con un numero di tentativi molto basso, altri in cui è richiesto un numero significativamente maggiore di tentativi. <br>\n",
    "\n",
    "In generale, possiamo dire che l'algoritmo è abbastanza efficiente, in quanto, in media, l'accordo viene trovato in un numero di tentativi basso, anche se ci sono casi in cui il numero di tentativi è molto alto. <br>"
   ]
  }
 ],
 "metadata": {
  "kernelspec": {
   "display_name": "Python 3",
   "language": "python",
   "name": "python3"
  },
  "language_info": {
   "codemirror_mode": {
    "name": "ipython",
    "version": 3
   },
   "file_extension": ".py",
   "mimetype": "text/x-python",
   "name": "python",
   "nbconvert_exporter": "python",
   "pygments_lexer": "ipython3",
   "version": "3.10.11"
  },
  "orig_nbformat": 4
 },
 "nbformat": 4,
 "nbformat_minor": 2
}
